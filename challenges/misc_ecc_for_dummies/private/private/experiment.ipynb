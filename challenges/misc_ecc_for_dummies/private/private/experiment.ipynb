{
 "cells": [
  {
   "cell_type": "code",
   "execution_count": 34,
   "metadata": {
    "collapsed": true,
    "ExecuteTime": {
     "end_time": "2023-06-02T16:31:19.154621627Z",
     "start_time": "2023-06-02T16:31:19.085386895Z"
    }
   },
   "outputs": [],
   "source": [
    "def binary(n):\n",
    "    return bin(n)[2:]"
   ]
  },
  {
   "cell_type": "code",
   "execution_count": 35,
   "metadata": {
    "ExecuteTime": {
     "end_time": "2023-06-02T16:31:19.290555538Z",
     "start_time": "2023-06-02T16:31:19.092981784Z"
    }
   },
   "outputs": [],
   "source": [
    "def ternary (n):\n",
    "    if n == 0:\n",
    "        return '0'\n",
    "    nums = []\n",
    "    while n:\n",
    "        n, r = divmod(n, 3)\n",
    "        nums.append(str(r))\n",
    "    return ''.join(reversed(nums))"
   ]
  },
  {
   "cell_type": "code",
   "execution_count": 36,
   "metadata": {
    "ExecuteTime": {
     "end_time": "2023-06-02T16:31:19.291961172Z",
     "start_time": "2023-06-02T16:31:19.168970133Z"
    }
   },
   "outputs": [],
   "source": [
    "def base_convert(i, b):\n",
    "    result = []\n",
    "    while i > 0:\n",
    "            result.insert(0, i % b)\n",
    "            i = i // b\n",
    "    return \"\".join(map(lambda x: str(x), result))"
   ]
  },
  {
   "cell_type": "code",
   "execution_count": 37,
   "metadata": {
    "ExecuteTime": {
     "end_time": "2023-06-02T16:31:19.292143125Z",
     "start_time": "2023-06-02T16:31:19.169399681Z"
    }
   },
   "outputs": [],
   "source": [
    "def count_differences(lhs, rhs):\n",
    "    assert(len(lhs) == len(rhs))\n",
    "    diff = 0\n",
    "    for left, right in zip(lhs, rhs):\n",
    "        if left != right:\n",
    "            diff += 1\n",
    "    return diff"
   ]
  },
  {
   "cell_type": "code",
   "execution_count": 38,
   "metadata": {
    "ExecuteTime": {
     "end_time": "2023-06-02T16:31:19.292284293Z",
     "start_time": "2023-06-02T16:31:19.169979735Z"
    }
   },
   "outputs": [],
   "source": [
    "def count_real_word_length(word):\n",
    "    size = len(word)\n",
    "    first = size\n",
    "    for index, sym in enumerate(word):\n",
    "        if sym != '0':\n",
    "            first = index\n",
    "            break\n",
    "    return size - first"
   ]
  },
  {
   "cell_type": "code",
   "execution_count": 39,
   "metadata": {
    "ExecuteTime": {
     "end_time": "2023-06-02T16:31:19.292846669Z",
     "start_time": "2023-06-02T16:31:19.170467534Z"
    }
   },
   "outputs": [],
   "source": [
    "BIT_TO_ENCODE = 7\n",
    "ERRORS = 3\n",
    "PADDING = 32"
   ]
  },
  {
   "cell_type": "code",
   "execution_count": 40,
   "metadata": {
    "ExecuteTime": {
     "end_time": "2023-06-02T16:31:19.293086234Z",
     "start_time": "2023-06-02T16:31:19.217228394Z"
    }
   },
   "outputs": [
    {
     "name": "stdout",
     "output_type": "stream",
     "text": [
      "Different groups needed:  32\n",
      "Minimal distance:  6\n"
     ]
    }
   ],
   "source": [
    "values = 2**BIT_TO_ENCODE\n",
    "distance = ERRORS * 2\n",
    "print(\"Different groups needed: \", values)\n",
    "print(\"Minimal distance: \", distance)"
   ]
  },
  {
   "cell_type": "markdown",
   "metadata": {},
   "source": [
    "## Binary logic estimator"
   ]
  },
  {
   "cell_type": "code",
   "execution_count": 41,
   "metadata": {
    "ExecuteTime": {
     "end_time": "2023-06-02T16:31:19.293220103Z",
     "start_time": "2023-06-02T16:31:19.217767732Z"
    }
   },
   "outputs": [],
   "source": [
    "bin_symbols = []\n",
    "bin_encoded = 0"
   ]
  },
  {
   "cell_type": "code",
   "execution_count": 42,
   "metadata": {
    "ExecuteTime": {
     "end_time": "2023-06-02T16:31:19.385945762Z",
     "start_time": "2023-06-02T16:31:19.218314070Z"
    }
   },
   "outputs": [],
   "source": [
    "counter = 0\n",
    "while len(bin_symbols) < values:\n",
    "    encoded = binary(counter).rjust(PADDING, '0')\n",
    "    counter += 1\n",
    "\n",
    "    collision = False\n",
    "    for symbol in bin_symbols:\n",
    "        if count_differences(symbol, encoded) < distance:\n",
    "            collision = True\n",
    "            break\n",
    "\n",
    "    if not collision:\n",
    "        bin_symbols.append(encoded)"
   ]
  },
  {
   "cell_type": "code",
   "execution_count": 43,
   "metadata": {
    "ExecuteTime": {
     "end_time": "2023-06-02T16:31:19.437152827Z",
     "start_time": "2023-06-02T16:31:19.387334901Z"
    }
   },
   "outputs": [],
   "source": [
    "min_length = 0\n",
    "for symbol in bin_symbols:\n",
    "    min_length = max(min_length, count_real_word_length(symbol))"
   ]
  },
  {
   "cell_type": "code",
   "execution_count": 44,
   "metadata": {
    "ExecuteTime": {
     "end_time": "2023-06-02T16:31:19.437682346Z",
     "start_time": "2023-06-02T16:31:19.429374638Z"
    }
   },
   "outputs": [
    {
     "name": "stdout",
     "output_type": "stream",
     "text": [
      "Symbols count:  32\n",
      "Min count:  14\n"
     ]
    }
   ],
   "source": [
    "print(\"Symbols count: \", len(bin_symbols))\n",
    "print(\"Min count: \", min_length)"
   ]
  },
  {
   "cell_type": "markdown",
   "metadata": {},
   "source": [
    "## Ternary logic estimator"
   ]
  },
  {
   "cell_type": "code",
   "execution_count": 45,
   "metadata": {
    "ExecuteTime": {
     "end_time": "2023-06-02T16:31:19.437870478Z",
     "start_time": "2023-06-02T16:31:19.429791339Z"
    }
   },
   "outputs": [],
   "source": [
    "tern_symbols = []"
   ]
  },
  {
   "cell_type": "code",
   "execution_count": 46,
   "metadata": {
    "ExecuteTime": {
     "end_time": "2023-06-02T16:31:20.088962604Z",
     "start_time": "2023-06-02T16:31:19.430073783Z"
    }
   },
   "outputs": [],
   "source": [
    "counter = 0\n",
    "while len(tern_symbols) < values:\n",
    "    encoded = ternary(counter).rjust(PADDING, '0')\n",
    "    counter += 1\n",
    "\n",
    "    collision = False\n",
    "    for symbol in tern_symbols:\n",
    "        if count_differences(symbol, encoded) < distance:\n",
    "            collision = True\n",
    "            break\n",
    "\n",
    "    if not collision:\n",
    "        tern_symbols.append(encoded)"
   ]
  },
  {
   "cell_type": "code",
   "execution_count": 47,
   "metadata": {
    "ExecuteTime": {
     "end_time": "2023-06-02T16:31:20.093573224Z",
     "start_time": "2023-06-02T16:31:20.090658565Z"
    }
   },
   "outputs": [],
   "source": [
    "min_tern_length = 0\n",
    "for symbol in tern_symbols:\n",
    "    min_tern_length = max(min_tern_length, count_real_word_length(symbol))"
   ]
  },
  {
   "cell_type": "code",
   "execution_count": 48,
   "metadata": {
    "ExecuteTime": {
     "end_time": "2023-06-02T16:31:20.112415757Z",
     "start_time": "2023-06-02T16:31:20.096435690Z"
    }
   },
   "outputs": [
    {
     "name": "stdout",
     "output_type": "stream",
     "text": [
      "Symbols count:  32\n",
      "Min count:  11\n"
     ]
    }
   ],
   "source": [
    "print(\"Symbols count: \", len(tern_symbols))\n",
    "print(\"Min count: \", min_tern_length)"
   ]
  },
  {
   "cell_type": "markdown",
   "metadata": {},
   "source": [
    "## Custom logic estimator"
   ]
  },
  {
   "cell_type": "code",
   "execution_count": 49,
   "metadata": {
    "ExecuteTime": {
     "end_time": "2023-06-02T16:31:20.153515681Z",
     "start_time": "2023-06-02T16:31:20.111897688Z"
    }
   },
   "outputs": [],
   "source": [
    "custom_symbols = []\n",
    "CUSTOM = 6"
   ]
  },
  {
   "cell_type": "code",
   "execution_count": 50,
   "metadata": {
    "ExecuteTime": {
     "end_time": "2023-06-02T16:31:30.275439181Z",
     "start_time": "2023-06-02T16:31:20.153117935Z"
    }
   },
   "outputs": [],
   "source": [
    "counter = 0\n",
    "while len(custom_symbols) < values:\n",
    "    encoded = base_convert(counter, CUSTOM).rjust(PADDING, '0')\n",
    "    counter += 1\n",
    "\n",
    "    collision = False\n",
    "    for symbol in custom_symbols:\n",
    "        if count_differences(symbol, encoded) < distance:\n",
    "            collision = True\n",
    "            break\n",
    "\n",
    "    if not collision:\n",
    "        custom_symbols.append(encoded)"
   ]
  },
  {
   "cell_type": "code",
   "execution_count": 51,
   "metadata": {
    "ExecuteTime": {
     "end_time": "2023-06-02T16:31:30.318291622Z",
     "start_time": "2023-06-02T16:31:30.317760003Z"
    }
   },
   "outputs": [],
   "source": [
    "min_custom_length = 0\n",
    "for symbol in custom_symbols:\n",
    "    min_custom_length = max(min_custom_length, count_real_word_length(symbol))"
   ]
  },
  {
   "cell_type": "code",
   "execution_count": 52,
   "metadata": {
    "ExecuteTime": {
     "end_time": "2023-06-02T16:31:30.328641181Z",
     "start_time": "2023-06-02T16:31:30.318578324Z"
    }
   },
   "outputs": [
    {
     "name": "stdout",
     "output_type": "stream",
     "text": [
      "Symbols count:  32\n",
      "Min count:  8\n"
     ]
    }
   ],
   "source": [
    "print(\"Symbols count: \", len(custom_symbols))\n",
    "print(\"Min count: \", min_custom_length)"
   ]
  },
  {
   "cell_type": "markdown",
   "source": [
    "# Operators\n"
   ],
   "metadata": {
    "collapsed": false
   }
  },
  {
   "cell_type": "code",
   "execution_count": 53,
   "outputs": [
    {
     "data": {
      "text/plain": "-2"
     },
     "execution_count": 53,
     "metadata": {},
     "output_type": "execute_result"
    }
   ],
   "source": [
    "True and (~True) or False"
   ],
   "metadata": {
    "collapsed": false,
    "ExecuteTime": {
     "end_time": "2023-06-02T16:31:30.378193096Z",
     "start_time": "2023-06-02T16:31:30.326824488Z"
    }
   }
  },
  {
   "cell_type": "code",
   "execution_count": 54,
   "outputs": [],
   "source": [
    "solving_equation = lambda params: (params[0]) or (params[1] and (~~True)) or (params[2] and (~True)) or (params[3] and (~False)) or (params[4] and (~~False))"
   ],
   "metadata": {
    "collapsed": false,
    "ExecuteTime": {
     "end_time": "2023-06-02T16:31:30.389362024Z",
     "start_time": "2023-06-02T16:31:30.348649868Z"
    }
   }
  },
  {
   "cell_type": "code",
   "execution_count": 55,
   "outputs": [
    {
     "name": "stdout",
     "output_type": "stream",
     "text": [
      "0 True\n",
      "1 1\n",
      "2 -2\n",
      "3 -1\n",
      "4 0\n",
      "6 False\n"
     ]
    }
   ],
   "source": [
    "for i in range(5):\n",
    "    params = [False for j in range(5)]\n",
    "    params[i] = True\n",
    "    print(i, solving_equation(params))\n",
    "\n",
    "params = [False for j in range(5)]\n",
    "print(6, solving_equation(params))\n"
   ],
   "metadata": {
    "collapsed": false,
    "ExecuteTime": {
     "end_time": "2023-06-02T16:31:30.392380055Z",
     "start_time": "2023-06-02T16:31:30.389775475Z"
    }
   }
  },
  {
   "cell_type": "code",
   "execution_count": 55,
   "outputs": [],
   "source": [],
   "metadata": {
    "collapsed": false,
    "ExecuteTime": {
     "end_time": "2023-06-02T16:31:30.392544944Z",
     "start_time": "2023-06-02T16:31:30.390157328Z"
    }
   }
  }
 ],
 "metadata": {
  "kernelspec": {
   "display_name": "Python 3 (ipykernel)",
   "language": "python",
   "name": "python3"
  },
  "language_info": {
   "codemirror_mode": {
    "name": "ipython",
    "version": 3
   },
   "file_extension": ".py",
   "mimetype": "text/x-python",
   "name": "python",
   "nbconvert_exporter": "python",
   "pygments_lexer": "ipython3",
   "version": "3.11.2"
  }
 },
 "nbformat": 4,
 "nbformat_minor": 1
}
