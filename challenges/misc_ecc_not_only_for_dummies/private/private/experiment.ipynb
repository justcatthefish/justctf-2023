{
 "cells": [
  {
   "cell_type": "code",
   "execution_count": 57,
   "metadata": {
    "scrolled": true,
    "ExecuteTime": {
     "end_time": "2023-06-03T07:49:01.137836010Z",
     "start_time": "2023-06-03T07:48:56.051051571Z"
    }
   },
   "outputs": [
    {
     "name": "stdout",
     "output_type": "stream",
     "text": [
      "/bin/bash: warning: setlocale: LC_ALL: cannot change locale (en_US.UTF-8)\r\n",
      "Defaulting to user installation because normal site-packages is not writeable\r\n",
      "Requirement already satisfied: ipython in /usr/lib/python3/dist-packages (8.5.0)\r\n",
      "Requirement already satisfied: ipywidgets in /usr/lib/python3/dist-packages (6.0.0)\r\n",
      "Requirement already satisfied: backcall in /usr/lib/python3/dist-packages (from ipython) (0.2.0)\r\n",
      "Requirement already satisfied: decorator in /usr/lib/python3/dist-packages (from ipython) (5.1.1)\r\n",
      "Requirement already satisfied: jedi>=0.16 in /usr/lib/python3/dist-packages (from ipython) (0.18.2)\r\n",
      "Requirement already satisfied: matplotlib-inline in /usr/lib/python3/dist-packages (from ipython) (0.1.6)\r\n",
      "Requirement already satisfied: pickleshare in /usr/lib/python3/dist-packages (from ipython) (0.7.5)\r\n",
      "Requirement already satisfied: prompt-toolkit<3.1.0,>3.0.1 in /usr/lib/python3/dist-packages (from ipython) (3.0.36)\r\n",
      "Requirement already satisfied: pygments>=2.4.0 in /usr/lib/python3/dist-packages (from ipython) (2.14.0)\r\n",
      "Requirement already satisfied: stack-data in /usr/lib/python3/dist-packages (from ipython) (0.6.2)\r\n",
      "Requirement already satisfied: traitlets>=5 in /usr/lib/python3/dist-packages (from ipython) (5.5.0)\r\n",
      "Requirement already satisfied: pexpect>4.3 in /usr/lib/python3/dist-packages (from ipython) (4.8.0)\r\n",
      "Requirement already satisfied: asttokens>=2.1.0 in /usr/lib/python3/dist-packages (from stack-data->ipython) (2.2.1)\r\n",
      "Requirement already satisfied: executing>=1.2.0 in /usr/lib/python3/dist-packages (from stack-data->ipython) (1.2.0)\r\n",
      "Requirement already satisfied: pure-eval in /usr/lib/python3/dist-packages (from stack-data->ipython) (0.0.0)\r\n"
     ]
    }
   ],
   "source": [
    "!pypy3 -m pip install ipython ipywidgets --break-system-packages"
   ]
  },
  {
   "cell_type": "code",
   "execution_count": 58,
   "metadata": {
    "ExecuteTime": {
     "end_time": "2023-06-03T07:49:01.152220704Z",
     "start_time": "2023-06-03T07:49:01.142278347Z"
    }
   },
   "outputs": [],
   "source": [
    "from ipywidgets import IntProgress\n",
    "from IPython.display import display"
   ]
  },
  {
   "cell_type": "code",
   "execution_count": 59,
   "metadata": {
    "ExecuteTime": {
     "end_time": "2023-06-03T07:49:01.249261850Z",
     "start_time": "2023-06-03T07:49:01.156547090Z"
    }
   },
   "outputs": [],
   "source": [
    "def binary(n):\n",
    "    return bin(n)[2:]"
   ]
  },
  {
   "cell_type": "code",
   "execution_count": 60,
   "metadata": {
    "ExecuteTime": {
     "end_time": "2023-06-03T07:49:01.295726036Z",
     "start_time": "2023-06-03T07:49:01.261693830Z"
    }
   },
   "outputs": [],
   "source": [
    "def ternary (n):\n",
    "    if n == 0:\n",
    "        return '0'\n",
    "    nums = []\n",
    "    while n:\n",
    "        n, r = divmod(n, 3)\n",
    "        nums.append(str(r))\n",
    "    return ''.join(reversed(nums))"
   ]
  },
  {
   "cell_type": "code",
   "execution_count": 61,
   "metadata": {
    "ExecuteTime": {
     "end_time": "2023-06-03T07:49:01.333728881Z",
     "start_time": "2023-06-03T07:49:01.299494142Z"
    }
   },
   "outputs": [],
   "source": [
    "def base_convert(i, b):\n",
    "    result = []\n",
    "    while i > 0:\n",
    "            result.insert(0, i % b)\n",
    "            i = i // b\n",
    "    return \"\".join(map(lambda x: str(x), result))"
   ]
  },
  {
   "cell_type": "code",
   "execution_count": 62,
   "metadata": {
    "ExecuteTime": {
     "end_time": "2023-06-03T07:49:01.423550562Z",
     "start_time": "2023-06-03T07:49:01.378923098Z"
    }
   },
   "outputs": [],
   "source": [
    "def count_differences(lhs, rhs):\n",
    "    assert(len(lhs) == len(rhs))\n",
    "    diff = 0\n",
    "    for left, right in zip(lhs, rhs):\n",
    "        if left != right:\n",
    "            diff += 1\n",
    "    return diff"
   ]
  },
  {
   "cell_type": "code",
   "execution_count": 63,
   "metadata": {
    "ExecuteTime": {
     "end_time": "2023-06-03T07:49:01.424486858Z",
     "start_time": "2023-06-03T07:49:01.423150186Z"
    }
   },
   "outputs": [],
   "source": [
    "def count_real_word_length(word):\n",
    "    size = len(word)\n",
    "    first = size\n",
    "    for index, sym in enumerate(word):\n",
    "        if sym != '0':\n",
    "            first = index\n",
    "            break\n",
    "    return size - first"
   ]
  },
  {
   "cell_type": "code",
   "execution_count": 86,
   "metadata": {
    "ExecuteTime": {
     "end_time": "2023-06-03T09:17:13.959097411Z",
     "start_time": "2023-06-03T09:17:13.911552147Z"
    }
   },
   "outputs": [],
   "source": [
    "BIT_TO_ENCODE = 15\n",
    "ERRORS = 2\n",
    "PADDING = 32"
   ]
  },
  {
   "cell_type": "code",
   "execution_count": 87,
   "metadata": {
    "ExecuteTime": {
     "end_time": "2023-06-03T09:17:14.488975382Z",
     "start_time": "2023-06-03T09:17:14.457320845Z"
    }
   },
   "outputs": [
    {
     "name": "stdout",
     "output_type": "stream",
     "text": [
      "Different groups needed:  32768\n",
      "Minimal distance:  4\n"
     ]
    }
   ],
   "source": [
    "values = 2**BIT_TO_ENCODE\n",
    "distance = ERRORS * 2\n",
    "print(\"Different groups needed: \", values)\n",
    "print(\"Minimal distance: \", distance)"
   ]
  },
  {
   "cell_type": "code",
   "execution_count": 88,
   "metadata": {
    "ExecuteTime": {
     "end_time": "2023-06-03T09:17:15.297038288Z",
     "start_time": "2023-06-03T09:17:15.191526850Z"
    }
   },
   "outputs": [],
   "source": [
    "f = IntProgress(min=0, max=values) # instantiate the bar"
   ]
  },
  {
   "cell_type": "markdown",
   "metadata": {},
   "source": [
    "## Binary logic estimator"
   ]
  },
  {
   "cell_type": "code",
   "execution_count": 89,
   "metadata": {
    "ExecuteTime": {
     "end_time": "2023-06-03T09:17:17.011816329Z",
     "start_time": "2023-06-03T09:17:16.967731256Z"
    }
   },
   "outputs": [],
   "source": [
    "bin_symbols = []\n",
    "bin_encoded = 0"
   ]
  },
  {
   "cell_type": "code",
   "execution_count": 90,
   "metadata": {
    "ExecuteTime": {
     "end_time": "2023-06-03T09:26:11.981494887Z",
     "start_time": "2023-06-03T09:17:18.556374643Z"
    }
   },
   "outputs": [
    {
     "data": {
      "text/plain": "IntProgress(value=0, max=32768)",
      "application/vnd.jupyter.widget-view+json": {
       "version_major": 2,
       "version_minor": 0,
       "model_id": "db6dc7c9acf644a29a5aae56f9648ced"
      }
     },
     "metadata": {},
     "output_type": "display_data"
    },
    {
     "ename": "KeyboardInterrupt",
     "evalue": "",
     "output_type": "error",
     "traceback": [
      "\u001B[0;31m---------------------------------------------------------------------------\u001B[0m",
      "\u001B[0;31mKeyboardInterrupt\u001B[0m                         Traceback (most recent call last)",
      "Cell \u001B[0;32mIn[90], line 10\u001B[0m\n\u001B[1;32m      8\u001B[0m collision \u001B[38;5;241m=\u001B[39m \u001B[38;5;28;01mFalse\u001B[39;00m\n\u001B[1;32m      9\u001B[0m \u001B[38;5;28;01mfor\u001B[39;00m symbol \u001B[38;5;129;01min\u001B[39;00m bin_symbols:\n\u001B[0;32m---> 10\u001B[0m     \u001B[38;5;28;01mif\u001B[39;00m \u001B[43mcount_differences\u001B[49m\u001B[43m(\u001B[49m\u001B[43msymbol\u001B[49m\u001B[43m,\u001B[49m\u001B[43m \u001B[49m\u001B[43mencoded\u001B[49m\u001B[43m)\u001B[49m \u001B[38;5;241m<\u001B[39m distance:\n\u001B[1;32m     11\u001B[0m         collision \u001B[38;5;241m=\u001B[39m \u001B[38;5;28;01mTrue\u001B[39;00m\n\u001B[1;32m     12\u001B[0m         \u001B[38;5;28;01mbreak\u001B[39;00m\n",
      "Cell \u001B[0;32mIn[62], line 4\u001B[0m, in \u001B[0;36mcount_differences\u001B[0;34m(lhs, rhs)\u001B[0m\n\u001B[1;32m      2\u001B[0m \u001B[38;5;28;01massert\u001B[39;00m(\u001B[38;5;28mlen\u001B[39m(lhs) \u001B[38;5;241m==\u001B[39m \u001B[38;5;28mlen\u001B[39m(rhs))\n\u001B[1;32m      3\u001B[0m diff \u001B[38;5;241m=\u001B[39m \u001B[38;5;241m0\u001B[39m\n\u001B[0;32m----> 4\u001B[0m \u001B[38;5;28;01mfor\u001B[39;00m left, right \u001B[38;5;129;01min\u001B[39;00m \u001B[38;5;28mzip\u001B[39m(lhs, rhs):\n\u001B[1;32m      5\u001B[0m     \u001B[38;5;28;01mif\u001B[39;00m left \u001B[38;5;241m!=\u001B[39m right:\n\u001B[1;32m      6\u001B[0m         diff \u001B[38;5;241m+\u001B[39m\u001B[38;5;241m=\u001B[39m \u001B[38;5;241m1\u001B[39m\n",
      "\u001B[0;31mKeyboardInterrupt\u001B[0m: "
     ]
    }
   ],
   "source": [
    "display(f)\n",
    "counter = 0\n",
    "f.value = 0\n",
    "while len(bin_symbols) < values:\n",
    "    encoded = binary(counter).rjust(PADDING, '0')\n",
    "    counter += 1\n",
    "\n",
    "    collision = False\n",
    "    for symbol in bin_symbols:\n",
    "        if count_differences(symbol, encoded) < distance:\n",
    "            collision = True\n",
    "            break\n",
    "\n",
    "    if not collision:\n",
    "        f.value += 1\n",
    "        bin_symbols.append(encoded)"
   ]
  },
  {
   "cell_type": "code",
   "execution_count": 73,
   "metadata": {
    "ExecuteTime": {
     "end_time": "2023-06-03T08:13:47.337817316Z",
     "start_time": "2023-06-03T08:13:47.310293287Z"
    }
   },
   "outputs": [],
   "source": [
    "min_length = 0\n",
    "for symbol in bin_symbols:\n",
    "    min_length = max(min_length, count_real_word_length(symbol))"
   ]
  },
  {
   "cell_type": "code",
   "execution_count": 74,
   "metadata": {
    "ExecuteTime": {
     "end_time": "2023-06-03T08:13:51.880193282Z",
     "start_time": "2023-06-03T08:13:51.838314410Z"
    }
   },
   "outputs": [
    {
     "name": "stdout",
     "output_type": "stream",
     "text": [
      "Symbols count:  8192\n",
      "Min count:  19\n"
     ]
    }
   ],
   "source": [
    "print(\"Symbols count: \", len(bin_symbols))\n",
    "print(\"Min count: \", min_length)"
   ]
  },
  {
   "cell_type": "markdown",
   "metadata": {},
   "source": [
    "## Ternary logic estimator"
   ]
  },
  {
   "cell_type": "code",
   "execution_count": 76,
   "metadata": {
    "ExecuteTime": {
     "end_time": "2023-06-03T08:14:29.614996161Z",
     "start_time": "2023-06-03T08:14:29.570914336Z"
    }
   },
   "outputs": [],
   "source": [
    "tern_symbols = []"
   ]
  },
  {
   "cell_type": "code",
   "execution_count": 77,
   "metadata": {
    "ExecuteTime": {
     "end_time": "2023-06-03T08:14:36.075711834Z",
     "start_time": "2023-06-03T08:14:30.162339143Z"
    }
   },
   "outputs": [
    {
     "data": {
      "text/plain": "IntProgress(value=8192, max=8192)",
      "application/vnd.jupyter.widget-view+json": {
       "version_major": 2,
       "version_minor": 0,
       "model_id": "c85a0fcac0e2453e95a386fc36a6a523"
      }
     },
     "metadata": {},
     "output_type": "display_data"
    },
    {
     "ename": "KeyboardInterrupt",
     "evalue": "",
     "output_type": "error",
     "traceback": [
      "\u001B[0;31m---------------------------------------------------------------------------\u001B[0m",
      "\u001B[0;31mKeyboardInterrupt\u001B[0m                         Traceback (most recent call last)",
      "Cell \u001B[0;32mIn[77], line 10\u001B[0m\n\u001B[1;32m      8\u001B[0m collision \u001B[38;5;241m=\u001B[39m \u001B[38;5;28;01mFalse\u001B[39;00m\n\u001B[1;32m      9\u001B[0m \u001B[38;5;28;01mfor\u001B[39;00m symbol \u001B[38;5;129;01min\u001B[39;00m tern_symbols:\n\u001B[0;32m---> 10\u001B[0m     \u001B[38;5;28;01mif\u001B[39;00m \u001B[43mcount_differences\u001B[49m\u001B[43m(\u001B[49m\u001B[43msymbol\u001B[49m\u001B[43m,\u001B[49m\u001B[43m \u001B[49m\u001B[43mencoded\u001B[49m\u001B[43m)\u001B[49m \u001B[38;5;241m<\u001B[39m distance:\n\u001B[1;32m     11\u001B[0m         collision \u001B[38;5;241m=\u001B[39m \u001B[38;5;28;01mTrue\u001B[39;00m\n\u001B[1;32m     12\u001B[0m         \u001B[38;5;28;01mbreak\u001B[39;00m\n",
      "Cell \u001B[0;32mIn[62], line 4\u001B[0m, in \u001B[0;36mcount_differences\u001B[0;34m(lhs, rhs)\u001B[0m\n\u001B[1;32m      2\u001B[0m \u001B[38;5;28;01massert\u001B[39;00m(\u001B[38;5;28mlen\u001B[39m(lhs) \u001B[38;5;241m==\u001B[39m \u001B[38;5;28mlen\u001B[39m(rhs))\n\u001B[1;32m      3\u001B[0m diff \u001B[38;5;241m=\u001B[39m \u001B[38;5;241m0\u001B[39m\n\u001B[0;32m----> 4\u001B[0m \u001B[38;5;28;01mfor\u001B[39;00m left, right \u001B[38;5;129;01min\u001B[39;00m \u001B[38;5;28mzip\u001B[39m(lhs, rhs):\n\u001B[1;32m      5\u001B[0m     \u001B[38;5;28;01mif\u001B[39;00m left \u001B[38;5;241m!=\u001B[39m right:\n\u001B[1;32m      6\u001B[0m         diff \u001B[38;5;241m+\u001B[39m\u001B[38;5;241m=\u001B[39m \u001B[38;5;241m1\u001B[39m\n",
      "\u001B[0;31mKeyboardInterrupt\u001B[0m: "
     ]
    }
   ],
   "source": [
    "display(f)\n",
    "counter = 0\n",
    "f.value = 0\n",
    "while len(tern_symbols) < values:\n",
    "    encoded = ternary(counter).rjust(PADDING, '0')\n",
    "    counter += 1\n",
    "\n",
    "    collision = False\n",
    "    for symbol in tern_symbols:\n",
    "        if count_differences(symbol, encoded) < distance:\n",
    "            collision = True\n",
    "            break\n",
    "\n",
    "    if not collision:\n",
    "        f.value += 1\n",
    "        tern_symbols.append(encoded)"
   ]
  },
  {
   "cell_type": "code",
   "execution_count": null,
   "metadata": {},
   "outputs": [],
   "source": [
    "min_tern_length = 0\n",
    "for symbol in tern_symbols:\n",
    "    min_tern_length = max(min_tern_length, count_real_word_length(symbol))"
   ]
  },
  {
   "cell_type": "code",
   "execution_count": null,
   "metadata": {},
   "outputs": [],
   "source": [
    "print(\"Symbols count: \", len(tern_symbols))\n",
    "print(\"Min count: \", min_tern_length)"
   ]
  },
  {
   "cell_type": "markdown",
   "metadata": {},
   "source": [
    "## Custom logic estimator"
   ]
  },
  {
   "cell_type": "code",
   "execution_count": 91,
   "metadata": {
    "ExecuteTime": {
     "end_time": "2023-06-03T09:34:26.126683264Z",
     "start_time": "2023-06-03T09:34:26.075910271Z"
    }
   },
   "outputs": [],
   "source": [
    "custom_symbols = []\n",
    "CUSTOM = 6"
   ]
  },
  {
   "cell_type": "code",
   "execution_count": 92,
   "metadata": {
    "ExecuteTime": {
     "end_time": "2023-06-03T09:36:46.140309366Z",
     "start_time": "2023-06-03T09:34:26.520318518Z"
    }
   },
   "outputs": [
    {
     "data": {
      "text/plain": "IntProgress(value=8192, max=32768)",
      "application/vnd.jupyter.widget-view+json": {
       "version_major": 2,
       "version_minor": 0,
       "model_id": "db6dc7c9acf644a29a5aae56f9648ced"
      }
     },
     "metadata": {},
     "output_type": "display_data"
    },
    {
     "ename": "KeyboardInterrupt",
     "evalue": "",
     "output_type": "error",
     "traceback": [
      "\u001B[0;31m---------------------------------------------------------------------------\u001B[0m",
      "\u001B[0;31mKeyboardInterrupt\u001B[0m                         Traceback (most recent call last)",
      "Cell \u001B[0;32mIn[92], line 10\u001B[0m\n\u001B[1;32m      8\u001B[0m collision \u001B[38;5;241m=\u001B[39m \u001B[38;5;28;01mFalse\u001B[39;00m\n\u001B[1;32m      9\u001B[0m \u001B[38;5;28;01mfor\u001B[39;00m symbol \u001B[38;5;129;01min\u001B[39;00m custom_symbols:\n\u001B[0;32m---> 10\u001B[0m     \u001B[38;5;28;01mif\u001B[39;00m \u001B[43mcount_differences\u001B[49m\u001B[43m(\u001B[49m\u001B[43msymbol\u001B[49m\u001B[43m,\u001B[49m\u001B[43m \u001B[49m\u001B[43mencoded\u001B[49m\u001B[43m)\u001B[49m \u001B[38;5;241m<\u001B[39m\u001B[38;5;241m=\u001B[39m distance:\n\u001B[1;32m     11\u001B[0m         collision \u001B[38;5;241m=\u001B[39m \u001B[38;5;28;01mTrue\u001B[39;00m\n\u001B[1;32m     12\u001B[0m         \u001B[38;5;28;01mbreak\u001B[39;00m\n",
      "Cell \u001B[0;32mIn[62], line 4\u001B[0m, in \u001B[0;36mcount_differences\u001B[0;34m(lhs, rhs)\u001B[0m\n\u001B[1;32m      2\u001B[0m \u001B[38;5;28;01massert\u001B[39;00m(\u001B[38;5;28mlen\u001B[39m(lhs) \u001B[38;5;241m==\u001B[39m \u001B[38;5;28mlen\u001B[39m(rhs))\n\u001B[1;32m      3\u001B[0m diff \u001B[38;5;241m=\u001B[39m \u001B[38;5;241m0\u001B[39m\n\u001B[0;32m----> 4\u001B[0m \u001B[38;5;28;01mfor\u001B[39;00m left, right \u001B[38;5;129;01min\u001B[39;00m \u001B[38;5;28mzip\u001B[39m(lhs, rhs):\n\u001B[1;32m      5\u001B[0m     \u001B[38;5;28;01mif\u001B[39;00m left \u001B[38;5;241m!=\u001B[39m right:\n\u001B[1;32m      6\u001B[0m         diff \u001B[38;5;241m+\u001B[39m\u001B[38;5;241m=\u001B[39m \u001B[38;5;241m1\u001B[39m\n",
      "\u001B[0;31mKeyboardInterrupt\u001B[0m: "
     ]
    }
   ],
   "source": [
    "display(f)\n",
    "counter = 0\n",
    "f.value = 0\n",
    "while len(custom_symbols) < values:\n",
    "    encoded = base_convert(counter, CUSTOM).rjust(PADDING, '0')\n",
    "    counter += 1\n",
    "\n",
    "    collision = False\n",
    "    for symbol in custom_symbols:\n",
    "        if count_differences(symbol, encoded) <= distance:\n",
    "            collision = True\n",
    "            break\n",
    "\n",
    "    if not collision:\n",
    "        f.value += 1\n",
    "        custom_symbols.append(encoded)"
   ]
  },
  {
   "cell_type": "code",
   "execution_count": null,
   "metadata": {},
   "outputs": [],
   "source": [
    "min_custom_length = 0\n",
    "for symbol in custom_symbols:\n",
    "    min_custom_length = max(min_custom_length, count_real_word_length(symbol))"
   ]
  },
  {
   "cell_type": "code",
   "execution_count": null,
   "metadata": {},
   "outputs": [],
   "source": [
    "print(\"Symbols count: \", len(custom_symbols))\n",
    "print(\"Min count: \", min_custom_length)"
   ]
  },
  {
   "cell_type": "markdown",
   "metadata": {},
   "source": [
    "# Operators\n"
   ]
  },
  {
   "cell_type": "code",
   "execution_count": null,
   "metadata": {},
   "outputs": [],
   "source": [
    "True and (~True) or False"
   ]
  },
  {
   "cell_type": "code",
   "execution_count": null,
   "metadata": {},
   "outputs": [],
   "source": [
    "solving_equation = lambda params: (params[0]) or (params[1] and (~~True)) or (params[2] and (~True)) or (params[3] and (~False)) or (params[4] and (~~False))"
   ]
  },
  {
   "cell_type": "code",
   "execution_count": null,
   "metadata": {},
   "outputs": [],
   "source": [
    "for i in range(5):\n",
    "    params = [False for j in range(5)]\n",
    "    params[i] = True\n",
    "    print(i, solving_equation(params))\n",
    "\n",
    "params = [False for j in range(5)]\n",
    "print(6, solving_equation(params))\n"
   ]
  },
  {
   "cell_type": "code",
   "execution_count": null,
   "metadata": {},
   "outputs": [],
   "source": []
  }
 ],
 "metadata": {
  "kernelspec": {
   "name": "pypy3",
   "language": "python",
   "display_name": "PyPy3"
  },
  "language_info": {
   "codemirror_mode": {
    "name": "ipython",
    "version": 3
   },
   "file_extension": ".py",
   "mimetype": "text/x-python",
   "name": "python",
   "nbconvert_exporter": "python",
   "pygments_lexer": "ipython3",
   "version": "3.9.16"
  }
 },
 "nbformat": 4,
 "nbformat_minor": 1
}
